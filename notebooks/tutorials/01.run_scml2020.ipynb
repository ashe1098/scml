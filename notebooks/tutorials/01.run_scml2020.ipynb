{
 "cells": [
  {
   "cell_type": "code",
   "execution_count": 1,
   "metadata": {
    "tags": [
     "remove_cell"
    ]
   },
   "outputs": [
    {
     "data": {
      "text/html": [
       "<style>.container { width:95% !important; }</style>"
      ],
      "text/plain": [
       "<IPython.core.display.HTML object>"
      ]
     },
     "metadata": {},
     "output_type": "display_data"
    }
   ],
   "source": [
    "%matplotlib inline\n",
    "import warnings\n",
    "warnings.filterwarnings('ignore')\n",
    "# setup disply parameters\n",
    "from matplotlib import pylab as plt\n",
    "import seaborn as sns\n",
    "from matplotlib.ticker import StrMethodFormatter\n",
    "float_formatter = StrMethodFormatter('{x:0.03f}')\n",
    "from IPython.core.display import display, HTML\n",
    "display(HTML(\"<style>.container { width:95% !important; }</style>\"))\n",
    "SMALL_SIZE = 14\n",
    "MEDIUM_SIZE = 16\n",
    "BIGGER_SIZE = 20\n",
    "\n",
    "plt.rc('font', size=SMALL_SIZE)          # controls default text sizes\n",
    "plt.rc('axes', titlesize=SMALL_SIZE)     # fontsize of the axes title\n",
    "plt.rc('axes', labelsize=MEDIUM_SIZE)    # fontsize of the x and y labels\n",
    "plt.rc('xtick', labelsize=SMALL_SIZE)    # fontsize of the tick labels\n",
    "plt.rc('ytick', labelsize=SMALL_SIZE)    # fontsize of the tick labels\n",
    "plt.rc('legend', fontsize=SMALL_SIZE)    # legend fontsize\n",
    "plt.rc('figure', titlesize=BIGGER_SIZE)  # fontsize of the figure title\n",
    "plt.rc('figure', figsize=(18, 6)) # set figure size\n",
    "plt.rc(\"animation\", html=\"html5\")\n"
   ]
  },
  {
   "cell_type": "code",
   "execution_count": 2,
   "metadata": {
    "tags": [
     "remove_cell"
    ]
   },
   "outputs": [],
   "source": [
    "import pandas as pd\n",
    "import numpy as np\n",
    "from time import sleep\n",
    "from pprint import pprint"
   ]
  },
  {
   "cell_type": "code",
   "execution_count": 3,
   "metadata": {
    "tags": [
     "remove_cell"
    ]
   },
   "outputs": [],
   "source": [
    "%%capture\n",
    "from tqdm import tqdm_notebook as tqdm\n",
    "tqdm().pandas()"
   ]
  },
  {
   "cell_type": "markdown",
   "metadata": {},
   "source": [
    "## Run a session of the SCML world (2020)\n",
    "\n",
    "The SCML world (Supply Chain Management League) runs on top of `NegMAS`.\n",
    "\n",
    "In this tutorial, you will test a run of this world.\n",
    "\n",
    "Firstly, let's import everything from the SCML app"
   ]
  },
  {
   "cell_type": "code",
   "execution_count": 4,
   "metadata": {},
   "outputs": [],
   "source": [
    "from scml.scml2020 import *"
   ]
  },
  {
   "cell_type": "markdown",
   "metadata": {},
   "source": [
    "There are several ways to create an SCML world. One of the simplest is to use the `generate` method of the `SCML2020World` class. This will create a dict that can be passed to the `SCML2020World` constructor as keyword arguments. \n",
    "\n",
    "Here we explicitly set `construct_graphs` to True which slows the simulation yet allows us to see graph representations of what is happening in the world. \n"
   ]
  },
  {
   "cell_type": "code",
   "execution_count": 5,
   "metadata": {},
   "outputs": [],
   "source": [
    "agent_types = [DecentralizingAgent, BuyCheapSellExpensiveAgent, \n",
    "               IndDecentralizingAgent, MovingRangeAgent]"
   ]
  },
  {
   "cell_type": "code",
   "execution_count": 6,
   "metadata": {},
   "outputs": [],
   "source": [
    "world = SCML2020World(\n",
    "    **SCML2020World.generate(\n",
    "        agent_types=agent_types,\n",
    "        n_steps=50\n",
    "    ), \n",
    "    construct_graphs=True,\n",
    ")"
   ]
  },
  {
   "cell_type": "markdown",
   "metadata": {},
   "source": [
    "Let's draw a graph to see what is in this world"
   ]
  },
  {
   "cell_type": "code",
   "execution_count": 7,
   "metadata": {},
   "outputs": [
    {
     "data": {
      "image/png": "[encoded data removed]",
      "text/plain": [
       "<Figure size 1296x432 with 1 Axes>"
      ]
     },
     "metadata": {},
     "output_type": "display_data"
    }
   ],
   "source": [
    "_, _ = world.draw()"
   ]
  },
  {
   "cell_type": "markdown",
   "metadata": {},
   "source": [
    "*If you want to just test your installation (and do not care whether you get an accurate indicator of agent performance), you can set the number of steps to a small value (e.g. n_steps=10).*\n",
    "\n",
    "Now you can run this world simulation by just calling `run`. "
   ]
  },
  {
   "cell_type": "code",
   "execution_count": null,
   "metadata": {},
   "outputs": [
    {
     "name": "stderr",
     "output_type": "stream",
     "text": [
      " 22%|██▏       | 11/50 [02:53<09:03, 13.95s/it]"
     ]
    }
   ],
   "source": [
    "world.run_with_progress() # may take few minutes"
   ]
  },
  {
   "cell_type": "markdown",
   "metadata": {},
   "source": [
    "Let's see what happened in this run. Firstly, how many negotiations were conducted over time"
   ]
  },
  {
   "cell_type": "code",
   "execution_count": null,
   "metadata": {},
   "outputs": [],
   "source": [
    "plt.plot(world.stats['n_negotiations'])\n",
    "plt.xlabel('Simulation Step')\n",
    "plt.ylabel('N. Negotiations')\n",
    "plt.show()"
   ]
  },
  {
   "cell_type": "markdown",
   "metadata": {},
   "source": [
    "It is clear that many negotiations happened at the beginning of the simulation with smaller number later. That is expected as the agents at the first and last production layer receive more exogenous contracts in the beginning.\n",
    "\n",
    "Several other market statistics are available:"
   ]
  },
  {
   "cell_type": "code",
   "execution_count": null,
   "metadata": {},
   "outputs": [],
   "source": [
    "pprint(list(_ for _ in world.stats.keys() if \"@\" not in _  ))"
   ]
  },
  {
   "cell_type": "markdown",
   "metadata": {},
   "source": [
    "Let's start by seeing how long did each step take (note that `stats` access the stats as a Dict[str, List] but `stats_df` access the same data as a pandas dataframe."
   ]
  },
  {
   "cell_type": "code",
   "execution_count": null,
   "metadata": {},
   "outputs": [],
   "source": [
    "plt.bar(range(world.n_steps), world.stats_df['step_time'])\n",
    "plt.xlabel('Simulation Step')\n",
    "plt.ylabel('Time (s)')\n",
    "plt.show()"
   ]
  },
  {
   "cell_type": "markdown",
   "metadata": {},
   "source": [
    "There are statistics specific for each agent that all have \"_{agent_name}\". Lets check what is available for the winner agent:"
   ]
  },
  {
   "cell_type": "code",
   "execution_count": null,
   "metadata": {},
   "outputs": [],
   "source": [
    "winner = world.winners[0]\n",
    "pprint(list(_ for _ in world.stats.keys() if winner.name in _ ))"
   ]
  },
  {
   "cell_type": "markdown",
   "metadata": {},
   "source": [
    "The convension is that agent names has the form {ind}{Type}{process} where **ind** is a unique index, **Type** is a shortened version of the agent's type name, and **process** is the process the agnet can run. Note that the agent's input product has the same number as its process and its output product has the next number (i.e. an agent that runs process 1, has input product 1 and output product 2).\n",
    "\n",
    "We can see that 8 pieces of information are available (for each time-step of the simulation):\n",
    "\n",
    "- **bankrupt** If true, the agent is bankrupt.\n",
    "- **balance** The money the agent has in its wallet (account).\n",
    "- **inventory (input)** The number of units of the agent's input product available in its inventory (by the end of the simulation step).\n",
    "- **inventory (output)** The number of units of the agent's output product available in its inventory (by the end of the simulation step).\n",
    "- **assets** The value of the agent's assets (input and output products in inventory) evaluated at the trading price\n",
    "- **spot market quantity** The quantity bought by this agent from the spot market (of its output product on this step). This can only happen as a result of a product-breach.\n",
    "- **spot market loss** The spot market price for the agent. This value will go up the more the agent buys from the spot market and will be used to calculate the price for this agent at future steps. This way agents that depend on the spot market instead of negotiation get punished.\n",
    "- **productivity** The fraction of the agent's production lines that were active at a given time-step.\n",
    "- **score** The score of the agent according to the evaluation rule of ANAC SCML 2020\n",
    "\n",
    "Let's see how did our agent do"
   ]
  },
  {
   "cell_type": "code",
   "execution_count": null,
   "metadata": {},
   "outputs": [],
   "source": [
    "#show the first and last value of each of the agent statistics\n",
    "pprint({k:(v[0], v[-1]) for k, v in world.stats.items() if winner.name in k })"
   ]
  },
  {
   "cell_type": "code",
   "execution_count": null,
   "metadata": {
    "scrolled": true
   },
   "outputs": [],
   "source": [
    "stats = pd.DataFrame(data=world.stats)\n",
    "fig, axs = plt.subplots(2, 3)\n",
    "for ax, key in zip(axs.flatten().tolist(), [\"score\", \"balance\", \"assets\", \"productivity\", \n",
    "                         \"spot_market_quantity\", \"spot_market_loss\"]):\n",
    "    ax.plot(stats[f\"{key}_{winner}\"])\n",
    "    ax.set(ylabel=key)\n",
    "fig.show()"
   ]
  },
  {
   "cell_type": "markdown",
   "metadata": {},
   "source": [
    "We can for example check the activity level of this world (defined as the total amount of money transferred due to trade)"
   ]
  },
  {
   "cell_type": "code",
   "execution_count": null,
   "metadata": {},
   "outputs": [],
   "source": [
    "plt.plot(world.stats['activity_level'])\n",
    "plt.xlabel('Simulation Step')\n",
    "plt.ylabel('Activitiy Level ($)\\nTotal Money Transferred')\n",
    "plt.show()"
   ]
  },
  {
   "cell_type": "markdown",
   "metadata": {},
   "source": [
    "We can see a picture of contracting in this world as follows:"
   ]
  },
  {
   "cell_type": "code",
   "execution_count": null,
   "metadata": {},
   "outputs": [],
   "source": [
    "plt.plot(world.stats['n_contracts_concluded'], label='Concluded Contracts')\n",
    "plt.plot(world.stats['n_contracts_cancelled'], label='Cancelled Contracts') \n",
    "plt.plot(world.stats['n_contracts_signed'], label='Signed Contracts') \n",
    "plt.plot(world.stats['n_contracts_executed'], label='Executed Contracts')\n",
    "plt.legend()\n",
    "plt.xlabel('Simulation Step')\n",
    "plt.ylabel('N. Contracts')\n",
    "plt.show()"
   ]
  },
  {
   "cell_type": "markdown",
   "metadata": {},
   "source": [
    "We can also check the breaches that happened"
   ]
  },
  {
   "cell_type": "code",
   "execution_count": null,
   "metadata": {},
   "outputs": [],
   "source": [
    "plt.plot(world.stats['breach_level'])\n",
    "plt.xlabel('Simulation Step')\n",
    "plt.ylabel('Total Breach Level')\n",
    "plt.show()"
   ]
  },
  {
   "cell_type": "markdown",
   "metadata": {},
   "source": [
    "Notice that there can be multiple winners"
   ]
  },
  {
   "cell_type": "code",
   "execution_count": null,
   "metadata": {},
   "outputs": [],
   "source": [
    "winner_profits = [100 * world.scores()[_.id] for _ in world.winners]\n",
    "winner_types = [_.short_type_name for _ in world.winners]\n",
    "print(f\"{world.winners} of type {winner_types} won at {winner_profits}%\")"
   ]
  },
  {
   "cell_type": "markdown",
   "metadata": {},
   "source": [
    "Let's check how did the first winner's inventory changes over time:"
   ]
  },
  {
   "cell_type": "code",
   "execution_count": null,
   "metadata": {},
   "outputs": [],
   "source": [
    "# find the keys in stats for the input and output inventory\n",
    "in_key = [_ for _ in world.stats.keys() if _.startswith(f'inventory_{winner}_input')][0]\n",
    "out_key = [_ for _ in world.stats.keys() if _.startswith(f'inventory_{winner}_output')][0]\n",
    "\n",
    "# find input and output product indices\n",
    "input_product, output_product = winner.awi.my_input_product, winner.awi.my_output_product\n",
    "# draw\n",
    "fig, (quantity, value) = plt.subplots(1, 2)\n",
    "quantity.plot(world.stats[in_key], label=f\"Input Product\")\n",
    "quantity.plot(world.stats[out_key], label=f\"Output Product\")\n",
    "quantity.set(xlabel='Simulation Step', ylabel='Winner\\'s Total Storage (item)')\n",
    "quantity.legend()\n",
    "value.plot(np.array(world.stats[in_key]) * np.array(world.stats[f\"trading_price_{input_product}\"])\n",
    "              , label=f\"Input Product\")\n",
    "value.plot(np.array(world.stats[out_key]) * np.array(world.stats[f\"trading_price_{output_product}\"])\n",
    "              , label=f\"Output Product\")\n",
    "value.set(xlabel='Simulation Step', ylabel='Winner\\'s Inventory Value ($)')\n",
    "value.legend()\n",
    "fig.show()"
   ]
  },
  {
   "cell_type": "markdown",
   "metadata": {},
   "source": [
    "We can actually check what happens to ALL competitors:"
   ]
  },
  {
   "cell_type": "code",
   "execution_count": null,
   "metadata": {},
   "outputs": [],
   "source": [
    "from scml.scml2020.world import is_system_agent\n",
    "fig, (profit, score) = plt.subplots(1, 2)\n",
    "snames = sorted(world.non_system_agent_names)\n",
    "for name in snames:    \n",
    "    profit.plot(100.0 * (np.asarray(world.stats[f'balance_{name}'])/world.stats[f'balance_{name}'][0] - 1.0), label=name)\n",
    "    score.plot(100 * np.asarray(world.stats[f'score_{name}']), label=name)\n",
    "profit.set(xlabel='Simulation Step', ylabel='Player Profit Ignoring Inventory (%)')\n",
    "profit.legend(loc='lower left')\n",
    "score.set(xlabel='Simulation Step', ylabel='Player Score (%)')\n",
    "fig.show()"
   ]
  },
  {
   "cell_type": "code",
   "execution_count": null,
   "metadata": {},
   "outputs": [],
   "source": [
    "from scml.scml2020.world import is_system_agent\n",
    "fig, (profit, score) = plt.subplots(1, 2)\n",
    "snames = sorted(world.non_system_agent_names)\n",
    "for name in snames:    \n",
    "    profit.plot((np.asarray(world.stats[f'balance_{name}'])), label=name)\n",
    "    score.plot(np.asarray(world.stats[f'score_{name}'])*(world.stats[f'balance_{name}'][0]), label=name)\n",
    "profit.set(xlabel='Simulation Step', ylabel='Player Balance ($)')\n",
    "profit.legend(loc='lower left')\n",
    "score.set(xlabel='Simulation Step', ylabel='Player Score Unnormalized ($)')\n",
    "fig.show()"
   ]
  },
  {
   "cell_type": "markdown",
   "metadata": {},
   "source": [
    "or just look at the end of the game"
   ]
  },
  {
   "cell_type": "code",
   "execution_count": null,
   "metadata": {},
   "outputs": [],
   "source": [
    "fig, (score, profit) = plt.subplots(1, 2)\n",
    "final_scores = [100 * world.stats[f\"score_{_}\"][-1] \n",
    "                for _ in world.non_system_agent_names]\n",
    "final_profits = [100 * world.stats[f\"balance_{_}\"][-1] / world.stats[f\"balance_{_}\"][0] - 100 \n",
    "                 for _ in world.non_system_agent_names]\n",
    "plt.setp(score.xaxis.get_majorticklabels(), rotation=45)\n",
    "plt.setp(profit.xaxis.get_majorticklabels(), rotation=45)\n",
    "score.bar(world.non_system_agent_names, final_scores)\n",
    "profit.bar(world.non_system_agent_names, final_profits)\n",
    "score.set(ylabel=\"Final Score (%)\")\n",
    "profit.set(ylabel=\"Final Profit (%)\")\n",
    "\n",
    "fig.show()"
   ]
  },
  {
   "cell_type": "code",
   "execution_count": null,
   "metadata": {},
   "outputs": [],
   "source": [
    "fig, (score, profit) = plt.subplots(1, 2)\n",
    "final_scores = [world.stats[f\"score_{_}\"][-1] * (world.stats[f\"balance_{_}\"][0]) \n",
    "                for _ in world.non_system_agent_names]\n",
    "final_profits = [world.stats[f\"balance_{_}\"][-1] \n",
    "                 for _ in world.non_system_agent_names]\n",
    "plt.setp(score.xaxis.get_majorticklabels(), rotation=45)\n",
    "plt.setp(profit.xaxis.get_majorticklabels(), rotation=45)\n",
    "score.bar(world.non_system_agent_names, final_scores)\n",
    "profit.bar(world.non_system_agent_names, final_profits)\n",
    "score.set(ylabel=\"Final Unnormalized Score ($)\")\n",
    "profit.set(ylabel=\"Final Balance  ($)\")\n",
    "\n",
    "fig.show()"
   ]
  },
  {
   "cell_type": "markdown",
   "metadata": {},
   "source": [
    "You can inspect what happened in the simulation by plotting different output statistics. For example, we can see how did the trading price of different products change over the simulation time."
   ]
  },
  {
   "cell_type": "code",
   "execution_count": null,
   "metadata": {},
   "outputs": [],
   "source": [
    "fig, axs = plt.subplots(2, 2)\n",
    "for ax, key in zip(axs.flatten().tolist(), [\"trading_price\", \"sold_quantity\", \"unit_price\"]):\n",
    "    for p in range(world.n_products):\n",
    "        ax.plot(world.stats[f\"{key}_{p}\"], marker=\"x\", label=f\"Product {p}\")\n",
    "        ax.set_ylabel(key.replace(\"_\", \" \").title())\n",
    "        ax.legend().set_visible(False)\n",
    "axs[-1, 0].legend(bbox_to_anchor=(1, -.5), ncol=3)\n",
    "fig.show()"
   ]
  },
  {
   "cell_type": "code",
   "execution_count": null,
   "metadata": {},
   "outputs": [],
   "source": [
    "fig, axs = plt.subplots(1, 2)\n",
    "for ax, key in zip(axs.flatten().tolist(), [\"spot_market_quantity\", \"spot_market_loss\"]):\n",
    "    for a in world.non_system_agent_names:\n",
    "        ax.plot(world.stats[f\"{key}_{a}\"], marker=\"x\", label=f\"{a}\")\n",
    "        ax.set_ylabel(key.replace(\"_\", \" \").title())\n",
    "        ax.legend().set_visible(False)\n",
    "axs[0].legend(bbox_to_anchor=(1, -.2), ncol=4)\n",
    "fig.show()"
   ]
  },
  {
   "cell_type": "markdown",
   "metadata": {},
   "source": [
    "You can dig futher to understand what happened during this siumulation. For example, let's see some of the contracts that were signed:"
   ]
  },
  {
   "cell_type": "code",
   "execution_count": null,
   "metadata": {},
   "outputs": [],
   "source": [
    "# create a view with only signed contracts\n",
    "contracts = world.contracts_df\n",
    "signed = contracts.loc[contracts.signed_at>=0, :]"
   ]
  },
  {
   "cell_type": "code",
   "execution_count": null,
   "metadata": {
    "scrolled": true
   },
   "outputs": [],
   "source": [
    "fields = [\"seller_name\", \"buyer_name\", \"delivery_time\", \"quantity\", \"unit_price\",\n",
    "          \"signed_at\", \"executed\", \"breached\", \"nullified\", \"erred\"]\n",
    "signed[fields].sort_values([\"quantity\", \"unit_price\"], ascending=False).head(10)"
   ]
  },
  {
   "cell_type": "markdown",
   "metadata": {},
   "source": [
    "Let's check some of the contracts that were fully executed"
   ]
  },
  {
   "cell_type": "code",
   "execution_count": null,
   "metadata": {
    "scrolled": true
   },
   "outputs": [],
   "source": [
    "signed.loc[signed.executed, fields].sort_values([\"quantity\", \"unit_price\"], ascending=False).head(10)"
   ]
  },
  {
   "cell_type": "code",
   "execution_count": null,
   "metadata": {},
   "outputs": [],
   "source": [
    "signed.loc[signed.breached, fields[:-4] + [\"breaches\"]].sort_values([\"quantity\", \"unit_price\"], ascending=False).head(10)"
   ]
  },
  {
   "cell_type": "markdown",
   "metadata": {},
   "source": [
    "We can now see how does the singning day affect delivery day, product and quantity"
   ]
  },
  {
   "cell_type": "code",
   "execution_count": null,
   "metadata": {},
   "outputs": [],
   "source": [
    "fig, ax = plt.subplots(1, 3)\n",
    "for i, x in enumerate([\"delivery_time\", \"quantity\", \"product_index\"]):\n",
    "    ax[i].scatter(signed.signed_at, signed[x])\n",
    "    ax[i].set(ylabel=x.replace(\"_\", \" \").title(), xlabel=\"Signing Day\")\n",
    "fig.show()"
   ]
  },
  {
   "cell_type": "code",
   "execution_count": null,
   "metadata": {},
   "outputs": [],
   "source": [
    "fig, ax = plt.subplots(1, 3)\n",
    "for i, x in enumerate([\"delivery_time\", \"unit_price\", \"product_index\"]):\n",
    "    ax[i].scatter(signed.quantity, signed[x])\n",
    "    ax[i].set(ylabel=x.replace(\"_\", \" \").title(), xlabel=\"Quantity\")\n",
    "fig.show()"
   ]
  },
  {
   "cell_type": "markdown",
   "metadata": {},
   "source": [
    "Did any agents go bankrupt and when?"
   ]
  },
  {
   "cell_type": "code",
   "execution_count": null,
   "metadata": {},
   "outputs": [],
   "source": [
    "bankruptcy = {a: np.nonzero(stats[f\"bankrupt_{a}\"].values)[0]\n",
    "        for a in world.non_system_agent_names}\n",
    "pprint({k: \"No\" if len(v)<1 else f\"at: {v[0]}\" for k, v in bankruptcy.items()})"
   ]
  },
  {
   "cell_type": "markdown",
   "metadata": {},
   "source": [
    "You can see what happened during this simulation by drawing graphs at different steps.\n",
    "The meaning of different edge colors can be drawn as follows:"
   ]
  },
  {
   "cell_type": "code",
   "execution_count": null,
   "metadata": {},
   "outputs": [],
   "source": [
    "from negmas import show_edge_colors\n",
    "show_edge_colors()"
   ]
  },
  {
   "cell_type": "markdown",
   "metadata": {},
   "source": [
    "You can see what happened in this world in a series of graphs using the `draw` method"
   ]
  },
  {
   "cell_type": "code",
   "execution_count": null,
   "metadata": {},
   "outputs": [],
   "source": [
    "world.draw(steps=(0, world.n_steps), together=False, ncols=2, figsize=(20, 20))\n",
    "plt.show()"
   ]
  },
  {
   "cell_type": "markdown",
   "metadata": {},
   "source": [
    "You can also run a simple animation to see what happens at every step (you need to download the jupyter notebook and execute it to see the animation) :"
   ]
  },
  {
   "cell_type": "code",
   "execution_count": null,
   "metadata": {},
   "outputs": [],
   "source": [
    "# prepare animation\n",
    "from time import perf_counter\n",
    "from negmas.helpers import humanize_time\n",
    "import gif\n",
    "from pathlib import Path\n",
    "\n",
    "# define animation parameters\n",
    "draw_every = 1 # draw every 5 steps (drawing is REALLY slow)\n",
    "single_graph = False # show a graph for every event type\n",
    "# what = [\"contracts-signed\", \"contracts-breached\", \"contracts-executed\",]\n",
    "fps = 5\n",
    "\n",
    "# define the animation function. Simply draw the world\n",
    "@gif.frame\n",
    "def plot_frame(s):\n",
    "    world.draw(#what=what, \n",
    "               steps=(s-draw_every, s), \n",
    "               together=single_graph, ncols=3, figsize=(20, 20))\n",
    "    \n",
    "# create frames\n",
    "frames = []\n",
    "for s in tqdm(range(world.n_steps)):\n",
    "    if s % draw_every != 0:\n",
    "        continue\n",
    "    frames.append(plot_frame(s))\n",
    "\n",
    "path = Path.cwd() / \"run.gif\"\n",
    "path.unlink(missing_ok=True)\n",
    "gif.save(frames, str(path), duration=1000 // fps)"
   ]
  },
  {
   "cell_type": "markdown",
   "metadata": {},
   "source": [
    "then show the animation"
   ]
  },
  {
   "cell_type": "code",
   "execution_count": null,
   "metadata": {},
   "outputs": [],
   "source": [
    "from IPython.display import HTML\n",
    "HTML('<img src=\"run.gif\">')"
   ]
  },
  {
   "cell_type": "markdown",
   "metadata": {},
   "source": [
    "Note that this graph shows only what happened in the last `draw_every` steps.\n",
    "\n",
    "Let's see some statistics about the simulation."
   ]
  },
  {
   "cell_type": "markdown",
   "metadata": {},
   "source": [
    "## Running a tournament\n",
    "    \n",
    "Now that you can run simple world simulations, let's try to run a complete tournament and see its results.\n",
    "Let's start by running a standard tournament (in which each agent is represented by a single factory). Running a collusion tournament will be exactly the same with the only difference that `anac2020_std` will be replaced with `anac2020_collusion`.\n",
    "\n",
    "Note that in the real competition we use thousands of configurations  and longer simulation steps (e.g. 50 $\\le$ n_steps $\\le$ 500). "
   ]
  },
  {
   "cell_type": "code",
   "execution_count": null,
   "metadata": {},
   "outputs": [],
   "source": [
    "from scml.scml2020.utils import anac2020_std"
   ]
  },
  {
   "cell_type": "code",
   "execution_count": null,
   "metadata": {},
   "outputs": [],
   "source": [
    "tournament_types = agent_types + [RandomAgent]\n",
    "# may take a long time\n",
    "results = anac2020_std(\n",
    "    competitors=tournament_types,  \n",
    "    n_configs=12, # number of different configurations to generate \n",
    "    n_runs_per_world=1, # number of times to repeat every simulation (with agent assignment)\n",
    "    n_steps = 10, # number of days (simulation steps) per simulation\n",
    "    print_exceptions=True,\n",
    ") "
   ]
  },
  {
   "cell_type": "markdown",
   "metadata": {},
   "source": [
    "Who was the winner?"
   ]
  },
  {
   "cell_type": "code",
   "execution_count": null,
   "metadata": {},
   "outputs": [],
   "source": [
    "results.winners"
   ]
  },
  {
   "cell_type": "markdown",
   "metadata": {},
   "source": [
    "How many simulations were actually run?"
   ]
  },
  {
   "cell_type": "code",
   "execution_count": null,
   "metadata": {},
   "outputs": [],
   "source": [
    "len(results.scores.run_id.unique())"
   ]
  },
  {
   "cell_type": "markdown",
   "metadata": {},
   "source": [
    "The total number of simulations $n_{s}$ will be $n_t \\times n_c \\times n_r$ where $n_t$ is the number of competitor agent types, $n_c$ is the number of configurations, and $n_r$ is the number of runs per configuration\n",
    "\n",
    "\n",
    "We can also see the scores that every agent type got"
   ]
  },
  {
   "cell_type": "code",
   "execution_count": null,
   "metadata": {},
   "outputs": [],
   "source": [
    "results.score_stats"
   ]
  },
  {
   "cell_type": "markdown",
   "metadata": {},
   "source": [
    "You can also do statistical significance testing using ttest or kstest (with multi-comparison correction)"
   ]
  },
  {
   "cell_type": "code",
   "execution_count": null,
   "metadata": {},
   "outputs": [],
   "source": [
    "results.kstest"
   ]
  },
  {
   "cell_type": "markdown",
   "metadata": {},
   "source": [
    "see the total score"
   ]
  },
  {
   "cell_type": "code",
   "execution_count": null,
   "metadata": {},
   "outputs": [],
   "source": [
    "results.total_scores"
   ]
  },
  {
   "cell_type": "markdown",
   "metadata": {},
   "source": [
    "or the aggregated statistics of the world. For example, let's draw the activity level for different simulations."
   ]
  },
  {
   "cell_type": "code",
   "execution_count": null,
   "metadata": {},
   "outputs": [],
   "source": [
    "plt.errorbar(range(len(results.agg_stats)),\n",
    "             results.agg_stats.activity_level_mean, \n",
    "             np.sqrt(results.agg_stats.activity_level_var)\n",
    "             )\n",
    "plt.xlabel(\"Simulation Number\")\n",
    "plt.ylabel(\"Activity Level\")\n",
    "plt.show()"
   ]
  },
  {
   "cell_type": "markdown",
   "metadata": {},
   "source": [
    "We can even get the scores of every agent belonging to every agent type at every simulation"
   ]
  },
  {
   "cell_type": "code",
   "execution_count": null,
   "metadata": {},
   "outputs": [],
   "source": [
    "results.scores.loc[:, [\"agent_name\", \"agent_type\", \"score\"]].head()"
   ]
  },
  {
   "cell_type": "markdown",
   "metadata": {},
   "source": [
    "or inspect any statistic we like"
   ]
  },
  {
   "cell_type": "code",
   "execution_count": null,
   "metadata": {},
   "outputs": [],
   "source": [
    "ax = sns.violinplot(data=results.stats, x=\"step\", y=\"activity_level\")\n",
    "ax.set(ylabel=\"Activity Level / Business Size ($)\", xlabel=\"Step Number\", yscale=\"log\")\n",
    "\n",
    "fig.show()"
   ]
  },
  {
   "cell_type": "markdown",
   "metadata": {},
   "source": [
    "Let's see how did the location at the production graph affect the score of each type."
   ]
  },
  {
   "cell_type": "code",
   "execution_count": null,
   "metadata": {},
   "outputs": [],
   "source": [
    "results.scores[\"level\"] = results.scores.agent_name.str.split(\"@\", expand=True).loc[:, 1]\n",
    "sns.lineplot(data=results.scores[[\"agent_type\", \"level\", \"score\"]], \n",
    "             x=\"level\", y=\"score\", hue=\"agent_type\")\n",
    "plt.plot([0.0] * len(results.scores[\"level\"].unique()), \"b--\")\n",
    "plt.show()"
   ]
  },
  {
   "cell_type": "markdown",
   "metadata": {},
   "source": [
    "Now that you can run simulations and complete tournament, let's see how are we going to develop a new agent for the SCML2020 league $\\rightarrow$"
   ]
  },
  {
   "cell_type": "code",
   "execution_count": null,
   "metadata": {},
   "outputs": [],
   "source": []
  },
  {
   "cell_type": "code",
   "execution_count": null,
   "metadata": {},
   "outputs": [],
   "source": []
  }
 ],
 "metadata": {
  "celltoolbar": "Tags",
  "kernelspec": {
   "display_name": "Python 3",
   "language": "python",
   "name": "python3"
  },
  "language_info": {
   "codemirror_mode": {
    "name": "ipython",
    "version": 3
   },
   "file_extension": ".py",
   "mimetype": "text/x-python",
   "name": "python",
   "nbconvert_exporter": "python",
   "pygments_lexer": "ipython3",
   "version": "3.8.0"
  },
  "toc": {
   "base_numbering": 1,
   "nav_menu": {},
   "number_sections": true,
   "sideBar": true,
   "skip_h1_title": false,
   "title_cell": "Table of Contents",
   "title_sidebar": "Contents",
   "toc_cell": false,
   "toc_position": {},
   "toc_section_display": true,
   "toc_window_display": false
  }
 },
 "nbformat": 4,
 "nbformat_minor": 2
}
